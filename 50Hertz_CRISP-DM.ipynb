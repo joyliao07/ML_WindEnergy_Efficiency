{
 "cells": [
  {
   "cell_type": "markdown",
   "id": "24873db4",
   "metadata": {},
   "source": [
    "# 50 Hertz & CRISP-DM Methodology"
   ]
  },
  {
   "cell_type": "code",
   "execution_count": 2,
   "id": "23efb02d",
   "metadata": {},
   "outputs": [],
   "source": [
    "import os\n",
    "import numpy as np\n",
    "import pandas as pd\n",
    "import matplotlib.pyplot as plt\n",
    "import seaborn as sns"
   ]
  },
  {
   "cell_type": "markdown",
   "id": "a48c3e0d",
   "metadata": {},
   "source": [
    "#### Import Data"
   ]
  },
  {
   "cell_type": "code",
   "execution_count": 3,
   "id": "d5f1c570",
   "metadata": {},
   "outputs": [
    {
     "data": {
      "text/html": [
       "<div>\n",
       "<style scoped>\n",
       "    .dataframe tbody tr th:only-of-type {\n",
       "        vertical-align: middle;\n",
       "    }\n",
       "\n",
       "    .dataframe tbody tr th {\n",
       "        vertical-align: top;\n",
       "    }\n",
       "\n",
       "    .dataframe thead th {\n",
       "        text-align: right;\n",
       "    }\n",
       "</style>\n",
       "<table border=\"1\" class=\"dataframe\">\n",
       "  <thead>\n",
       "    <tr style=\"text-align: right;\">\n",
       "      <th></th>\n",
       "      <th>Date</th>\n",
       "      <th>00:00:00</th>\n",
       "      <th>00:15:00</th>\n",
       "      <th>00:30:00</th>\n",
       "      <th>00:45:00</th>\n",
       "      <th>01:00:00</th>\n",
       "      <th>01:15:00</th>\n",
       "      <th>01:30:00</th>\n",
       "      <th>01:45:00</th>\n",
       "      <th>02:00:00</th>\n",
       "      <th>...</th>\n",
       "      <th>21:30:00</th>\n",
       "      <th>21:45:00</th>\n",
       "      <th>22:00:00</th>\n",
       "      <th>22:15:00</th>\n",
       "      <th>22:30:00</th>\n",
       "      <th>22:45:00</th>\n",
       "      <th>23:00:00</th>\n",
       "      <th>23:15:00</th>\n",
       "      <th>23:30:00</th>\n",
       "      <th>23:45:00</th>\n",
       "    </tr>\n",
       "  </thead>\n",
       "  <tbody>\n",
       "    <tr>\n",
       "      <th>0</th>\n",
       "      <td>23/08/2019</td>\n",
       "      <td>74</td>\n",
       "      <td>73</td>\n",
       "      <td>63</td>\n",
       "      <td>55</td>\n",
       "      <td>54</td>\n",
       "      <td>53</td>\n",
       "      <td>51</td>\n",
       "      <td>52</td>\n",
       "      <td>45</td>\n",
       "      <td>...</td>\n",
       "      <td>68</td>\n",
       "      <td>68</td>\n",
       "      <td>63</td>\n",
       "      <td>61</td>\n",
       "      <td>57</td>\n",
       "      <td>52</td>\n",
       "      <td>51</td>\n",
       "      <td>49</td>\n",
       "      <td>45</td>\n",
       "      <td>40</td>\n",
       "    </tr>\n",
       "    <tr>\n",
       "      <th>1</th>\n",
       "      <td>24/08/2019</td>\n",
       "      <td>37</td>\n",
       "      <td>38</td>\n",
       "      <td>35</td>\n",
       "      <td>35</td>\n",
       "      <td>31</td>\n",
       "      <td>32</td>\n",
       "      <td>30</td>\n",
       "      <td>29</td>\n",
       "      <td>28</td>\n",
       "      <td>...</td>\n",
       "      <td>118</td>\n",
       "      <td>118</td>\n",
       "      <td>112</td>\n",
       "      <td>107</td>\n",
       "      <td>104</td>\n",
       "      <td>104</td>\n",
       "      <td>99</td>\n",
       "      <td>95</td>\n",
       "      <td>95</td>\n",
       "      <td>96</td>\n",
       "    </tr>\n",
       "    <tr>\n",
       "      <th>2</th>\n",
       "      <td>25/08/2019</td>\n",
       "      <td>93</td>\n",
       "      <td>88</td>\n",
       "      <td>85</td>\n",
       "      <td>81</td>\n",
       "      <td>76</td>\n",
       "      <td>80</td>\n",
       "      <td>81</td>\n",
       "      <td>76</td>\n",
       "      <td>73</td>\n",
       "      <td>...</td>\n",
       "      <td>111</td>\n",
       "      <td>108</td>\n",
       "      <td>103</td>\n",
       "      <td>96</td>\n",
       "      <td>93</td>\n",
       "      <td>88</td>\n",
       "      <td>86</td>\n",
       "      <td>82</td>\n",
       "      <td>80</td>\n",
       "      <td>77</td>\n",
       "    </tr>\n",
       "  </tbody>\n",
       "</table>\n",
       "<p>3 rows × 97 columns</p>\n",
       "</div>"
      ],
      "text/plain": [
       "         Date  00:00:00  00:15:00  00:30:00  00:45:00  01:00:00  01:15:00  \\\n",
       "0  23/08/2019        74        73        63        55        54        53   \n",
       "1  24/08/2019        37        38        35        35        31        32   \n",
       "2  25/08/2019        93        88        85        81        76        80   \n",
       "\n",
       "   01:30:00  01:45:00  02:00:00  ...  21:30:00  21:45:00  22:00:00  22:15:00  \\\n",
       "0        51        52        45  ...        68        68        63        61   \n",
       "1        30        29        28  ...       118       118       112       107   \n",
       "2        81        76        73  ...       111       108       103        96   \n",
       "\n",
       "   22:30:00  22:45:00  23:00:00  23:15:00  23:30:00  23:45:00  \n",
       "0        57        52        51        49        45        40  \n",
       "1       104       104        99        95        95        96  \n",
       "2        93        88        86        82        80        77  \n",
       "\n",
       "[3 rows x 97 columns]"
      ]
     },
     "execution_count": 3,
     "metadata": {},
     "output_type": "execute_result"
    }
   ],
   "source": [
    "# Import \"50Hertz.csv\":\n",
    "# Obtain current work directory:\n",
    "# os.getcwd()\n",
    "df_original = pd.read_csv(\"/Users/joyceliao/Documents/Programming/ML/50Hertz.csv\")\n",
    "df_original.head(3)"
   ]
  },
  {
   "cell_type": "code",
   "execution_count": 4,
   "id": "6ddaf057",
   "metadata": {},
   "outputs": [
    {
     "data": {
      "text/html": [
       "<div>\n",
       "<style scoped>\n",
       "    .dataframe tbody tr th:only-of-type {\n",
       "        vertical-align: middle;\n",
       "    }\n",
       "\n",
       "    .dataframe tbody tr th {\n",
       "        vertical-align: top;\n",
       "    }\n",
       "\n",
       "    .dataframe thead th {\n",
       "        text-align: right;\n",
       "    }\n",
       "</style>\n",
       "<table border=\"1\" class=\"dataframe\">\n",
       "  <thead>\n",
       "    <tr style=\"text-align: right;\">\n",
       "      <th></th>\n",
       "      <th>Date</th>\n",
       "      <th>00:00:00</th>\n",
       "      <th>00:15:00</th>\n",
       "      <th>00:30:00</th>\n",
       "      <th>00:45:00</th>\n",
       "      <th>01:00:00</th>\n",
       "      <th>01:15:00</th>\n",
       "      <th>01:30:00</th>\n",
       "      <th>01:45:00</th>\n",
       "      <th>02:00:00</th>\n",
       "      <th>...</th>\n",
       "      <th>21:30:00</th>\n",
       "      <th>21:45:00</th>\n",
       "      <th>22:00:00</th>\n",
       "      <th>22:15:00</th>\n",
       "      <th>22:30:00</th>\n",
       "      <th>22:45:00</th>\n",
       "      <th>23:00:00</th>\n",
       "      <th>23:15:00</th>\n",
       "      <th>23:30:00</th>\n",
       "      <th>23:45:00</th>\n",
       "    </tr>\n",
       "  </thead>\n",
       "  <tbody>\n",
       "    <tr>\n",
       "      <th>394</th>\n",
       "      <td>20/09/2020</td>\n",
       "      <td>111</td>\n",
       "      <td>102</td>\n",
       "      <td>95</td>\n",
       "      <td>87</td>\n",
       "      <td>82</td>\n",
       "      <td>83</td>\n",
       "      <td>80</td>\n",
       "      <td>75</td>\n",
       "      <td>72</td>\n",
       "      <td>...</td>\n",
       "      <td>109</td>\n",
       "      <td>105</td>\n",
       "      <td>104</td>\n",
       "      <td>95</td>\n",
       "      <td>89</td>\n",
       "      <td>81</td>\n",
       "      <td>73</td>\n",
       "      <td>69</td>\n",
       "      <td>66</td>\n",
       "      <td>57</td>\n",
       "    </tr>\n",
       "    <tr>\n",
       "      <th>395</th>\n",
       "      <td>21/09/2020</td>\n",
       "      <td>57</td>\n",
       "      <td>53</td>\n",
       "      <td>47</td>\n",
       "      <td>44</td>\n",
       "      <td>43</td>\n",
       "      <td>42</td>\n",
       "      <td>42</td>\n",
       "      <td>45</td>\n",
       "      <td>45</td>\n",
       "      <td>...</td>\n",
       "      <td>82</td>\n",
       "      <td>78</td>\n",
       "      <td>76</td>\n",
       "      <td>75</td>\n",
       "      <td>72</td>\n",
       "      <td>68</td>\n",
       "      <td>65</td>\n",
       "      <td>62</td>\n",
       "      <td>59</td>\n",
       "      <td>55</td>\n",
       "    </tr>\n",
       "    <tr>\n",
       "      <th>396</th>\n",
       "      <td>22/09/2020</td>\n",
       "      <td>51</td>\n",
       "      <td>48</td>\n",
       "      <td>44</td>\n",
       "      <td>42</td>\n",
       "      <td>40</td>\n",
       "      <td>39</td>\n",
       "      <td>38</td>\n",
       "      <td>35</td>\n",
       "      <td>35</td>\n",
       "      <td>...</td>\n",
       "      <td>75</td>\n",
       "      <td>72</td>\n",
       "      <td>71</td>\n",
       "      <td>72</td>\n",
       "      <td>76</td>\n",
       "      <td>75</td>\n",
       "      <td>72</td>\n",
       "      <td>71</td>\n",
       "      <td>69</td>\n",
       "      <td>66</td>\n",
       "    </tr>\n",
       "  </tbody>\n",
       "</table>\n",
       "<p>3 rows × 97 columns</p>\n",
       "</div>"
      ],
      "text/plain": [
       "           Date  00:00:00  00:15:00  00:30:00  00:45:00  01:00:00  01:15:00  \\\n",
       "394  20/09/2020       111       102        95        87        82        83   \n",
       "395  21/09/2020        57        53        47        44        43        42   \n",
       "396  22/09/2020        51        48        44        42        40        39   \n",
       "\n",
       "     01:30:00  01:45:00  02:00:00  ...  21:30:00  21:45:00  22:00:00  \\\n",
       "394        80        75        72  ...       109       105       104   \n",
       "395        42        45        45  ...        82        78        76   \n",
       "396        38        35        35  ...        75        72        71   \n",
       "\n",
       "     22:15:00  22:30:00  22:45:00  23:00:00  23:15:00  23:30:00  23:45:00  \n",
       "394        95        89        81        73        69        66        57  \n",
       "395        75        72        68        65        62        59        55  \n",
       "396        72        76        75        72        71        69        66  \n",
       "\n",
       "[3 rows x 97 columns]"
      ]
     },
     "execution_count": 4,
     "metadata": {},
     "output_type": "execute_result"
    }
   ],
   "source": [
    "df_original.tail(3)"
   ]
  },
  {
   "cell_type": "markdown",
   "id": "830452ab",
   "metadata": {},
   "source": [
    "#### Create Dataframe \"df_monthly\""
   ]
  },
  {
   "cell_type": "code",
   "execution_count": 5,
   "id": "e796216d",
   "metadata": {},
   "outputs": [
    {
     "data": {
      "text/html": [
       "<div>\n",
       "<style scoped>\n",
       "    .dataframe tbody tr th:only-of-type {\n",
       "        vertical-align: middle;\n",
       "    }\n",
       "\n",
       "    .dataframe tbody tr th {\n",
       "        vertical-align: top;\n",
       "    }\n",
       "\n",
       "    .dataframe thead th {\n",
       "        text-align: right;\n",
       "    }\n",
       "</style>\n",
       "<table border=\"1\" class=\"dataframe\">\n",
       "  <thead>\n",
       "    <tr style=\"text-align: right;\">\n",
       "      <th></th>\n",
       "      <th>Time</th>\n",
       "    </tr>\n",
       "  </thead>\n",
       "  <tbody>\n",
       "  </tbody>\n",
       "</table>\n",
       "</div>"
      ],
      "text/plain": [
       "Empty DataFrame\n",
       "Columns: [Time]\n",
       "Index: []"
      ]
     },
     "execution_count": 5,
     "metadata": {},
     "output_type": "execute_result"
    }
   ],
   "source": [
    "# Create \"df_monthly\":\n",
    "column_names = [\"Time\"]\n",
    "df_monthly = pd.DataFrame(columns = column_names)\n",
    "df_monthly"
   ]
  },
  {
   "cell_type": "markdown",
   "id": "3e24930c",
   "metadata": {},
   "source": [
    "#### Populate Column \"Time\":"
   ]
  },
  {
   "cell_type": "code",
   "execution_count": 6,
   "id": "e00b1e67",
   "metadata": {},
   "outputs": [
    {
     "data": {
      "text/plain": [
       "array([   0.,   15.,   30.,   45.,   60.,   75.,   90.,  105.,  120.,\n",
       "        135.,  150.,  165.,  180.,  195.,  210.,  225.,  240.,  255.,\n",
       "        270.,  285.,  300.,  315.,  330.,  345.,  360.,  375.,  390.,\n",
       "        405.,  420.,  435.,  450.,  465.,  480.,  495.,  510.,  525.,\n",
       "        540.,  555.,  570.,  585.,  600.,  615.,  630.,  645.,  660.,\n",
       "        675.,  690.,  705.,  720.,  735.,  750.,  765.,  780.,  795.,\n",
       "        810.,  825.,  840.,  855.,  870.,  885.,  900.,  915.,  930.,\n",
       "        945.,  960.,  975.,  990., 1005., 1020., 1035., 1050., 1065.,\n",
       "       1080., 1095., 1110., 1125., 1140., 1155., 1170., 1185., 1200.,\n",
       "       1215., 1230., 1245., 1260., 1275., 1290., 1305., 1320., 1335.,\n",
       "       1350., 1365., 1380., 1395., 1410., 1425., 1440.])"
      ]
     },
     "execution_count": 6,
     "metadata": {},
     "output_type": "execute_result"
    }
   ],
   "source": [
    "time_value = np.arange(0, 1450, 15, dtype='float')\n",
    "# len(time_value) = 97\n",
    "time_value"
   ]
  },
  {
   "cell_type": "code",
   "execution_count": 7,
   "id": "4e5122fd",
   "metadata": {},
   "outputs": [
    {
     "data": {
      "text/html": [
       "<div>\n",
       "<style scoped>\n",
       "    .dataframe tbody tr th:only-of-type {\n",
       "        vertical-align: middle;\n",
       "    }\n",
       "\n",
       "    .dataframe tbody tr th {\n",
       "        vertical-align: top;\n",
       "    }\n",
       "\n",
       "    .dataframe thead th {\n",
       "        text-align: right;\n",
       "    }\n",
       "</style>\n",
       "<table border=\"1\" class=\"dataframe\">\n",
       "  <thead>\n",
       "    <tr style=\"text-align: right;\">\n",
       "      <th></th>\n",
       "      <th>Time</th>\n",
       "    </tr>\n",
       "  </thead>\n",
       "  <tbody>\n",
       "    <tr>\n",
       "      <th>0</th>\n",
       "      <td>0.0</td>\n",
       "    </tr>\n",
       "    <tr>\n",
       "      <th>1</th>\n",
       "      <td>15.0</td>\n",
       "    </tr>\n",
       "    <tr>\n",
       "      <th>2</th>\n",
       "      <td>30.0</td>\n",
       "    </tr>\n",
       "    <tr>\n",
       "      <th>3</th>\n",
       "      <td>45.0</td>\n",
       "    </tr>\n",
       "    <tr>\n",
       "      <th>4</th>\n",
       "      <td>60.0</td>\n",
       "    </tr>\n",
       "    <tr>\n",
       "      <th>...</th>\n",
       "      <td>...</td>\n",
       "    </tr>\n",
       "    <tr>\n",
       "      <th>92</th>\n",
       "      <td>1380.0</td>\n",
       "    </tr>\n",
       "    <tr>\n",
       "      <th>93</th>\n",
       "      <td>1395.0</td>\n",
       "    </tr>\n",
       "    <tr>\n",
       "      <th>94</th>\n",
       "      <td>1410.0</td>\n",
       "    </tr>\n",
       "    <tr>\n",
       "      <th>95</th>\n",
       "      <td>1425.0</td>\n",
       "    </tr>\n",
       "    <tr>\n",
       "      <th>96</th>\n",
       "      <td>1440.0</td>\n",
       "    </tr>\n",
       "  </tbody>\n",
       "</table>\n",
       "<p>97 rows × 1 columns</p>\n",
       "</div>"
      ],
      "text/plain": [
       "      Time\n",
       "0      0.0\n",
       "1     15.0\n",
       "2     30.0\n",
       "3     45.0\n",
       "4     60.0\n",
       "..     ...\n",
       "92  1380.0\n",
       "93  1395.0\n",
       "94  1410.0\n",
       "95  1425.0\n",
       "96  1440.0\n",
       "\n",
       "[97 rows x 1 columns]"
      ]
     },
     "execution_count": 7,
     "metadata": {},
     "output_type": "execute_result"
    }
   ],
   "source": [
    "df_monthly[\"Time\"] = time_value\n",
    "df_monthly"
   ]
  },
  {
   "cell_type": "markdown",
   "id": "434369ed",
   "metadata": {},
   "source": [
    "#### Populate 2019-09 Data"
   ]
  },
  {
   "cell_type": "code",
   "execution_count": 8,
   "id": "fc28df6e",
   "metadata": {},
   "outputs": [
    {
     "data": {
      "text/plain": [
       "array([0, 3407, 3361, 3335, 3287, 3275, 3263, 3223, 3209, 3170, 3139,\n",
       "       3080, 3056, 3042, 3054, 3098, 3078, 3114, 3186, 3165, 3143, 3150,\n",
       "       3152, 3196, 3220, 3165, 3159, 3135, 3002, 2931, 2892, 2955, 2949,\n",
       "       3053, 3222, 3449, 3566, 3824, 3921, 4039, 4157, 4288, 4421, 4484,\n",
       "       4637, 4575, 4636, 4692, 4681, 4701, 4652, 4755, 4735, 4770, 4734,\n",
       "       4729, 4700, 4754, 4661, 4529, 4536, 4440, 4404, 4225, 4163, 4036,\n",
       "       3930, 3818, 3624, 3532, 3459, 3452, 3483, 3360, 3529, 3506, 3613,\n",
       "       3624, 3642, 3684, 3704, 3691, 3730, 3691, 3658, 3658, 3642, 3663,\n",
       "       3675, 3620, 3590, 3532, 3483, 3482, 3440, 3432, 3425], dtype=object)"
      ]
     },
     "execution_count": 8,
     "metadata": {},
     "output_type": "execute_result"
    }
   ],
   "source": [
    "# Create 2019-Sep data with total row:\n",
    "df_2019_09 = df_original.loc[9:38]\n",
    "# df_2019_09.loc[\"2019-09\"] = df_2019_09.sum()\n",
    "array_2019_09 = np.array(df_2019_09.sum())\n",
    "array_2019_09[0] = 0\n",
    "array_2019_09"
   ]
  },
  {
   "cell_type": "code",
   "execution_count": 9,
   "id": "56d4955f",
   "metadata": {},
   "outputs": [
    {
     "data": {
      "text/html": [
       "<div>\n",
       "<style scoped>\n",
       "    .dataframe tbody tr th:only-of-type {\n",
       "        vertical-align: middle;\n",
       "    }\n",
       "\n",
       "    .dataframe tbody tr th {\n",
       "        vertical-align: top;\n",
       "    }\n",
       "\n",
       "    .dataframe thead th {\n",
       "        text-align: right;\n",
       "    }\n",
       "</style>\n",
       "<table border=\"1\" class=\"dataframe\">\n",
       "  <thead>\n",
       "    <tr style=\"text-align: right;\">\n",
       "      <th></th>\n",
       "      <th>Time</th>\n",
       "      <th>2019-09</th>\n",
       "    </tr>\n",
       "  </thead>\n",
       "  <tbody>\n",
       "    <tr>\n",
       "      <th>0</th>\n",
       "      <td>0.0</td>\n",
       "      <td>0</td>\n",
       "    </tr>\n",
       "    <tr>\n",
       "      <th>1</th>\n",
       "      <td>15.0</td>\n",
       "      <td>3407</td>\n",
       "    </tr>\n",
       "    <tr>\n",
       "      <th>2</th>\n",
       "      <td>30.0</td>\n",
       "      <td>3361</td>\n",
       "    </tr>\n",
       "    <tr>\n",
       "      <th>3</th>\n",
       "      <td>45.0</td>\n",
       "      <td>3335</td>\n",
       "    </tr>\n",
       "    <tr>\n",
       "      <th>4</th>\n",
       "      <td>60.0</td>\n",
       "      <td>3287</td>\n",
       "    </tr>\n",
       "    <tr>\n",
       "      <th>...</th>\n",
       "      <td>...</td>\n",
       "      <td>...</td>\n",
       "    </tr>\n",
       "    <tr>\n",
       "      <th>92</th>\n",
       "      <td>1380.0</td>\n",
       "      <td>3483</td>\n",
       "    </tr>\n",
       "    <tr>\n",
       "      <th>93</th>\n",
       "      <td>1395.0</td>\n",
       "      <td>3482</td>\n",
       "    </tr>\n",
       "    <tr>\n",
       "      <th>94</th>\n",
       "      <td>1410.0</td>\n",
       "      <td>3440</td>\n",
       "    </tr>\n",
       "    <tr>\n",
       "      <th>95</th>\n",
       "      <td>1425.0</td>\n",
       "      <td>3432</td>\n",
       "    </tr>\n",
       "    <tr>\n",
       "      <th>96</th>\n",
       "      <td>1440.0</td>\n",
       "      <td>3425</td>\n",
       "    </tr>\n",
       "  </tbody>\n",
       "</table>\n",
       "<p>97 rows × 2 columns</p>\n",
       "</div>"
      ],
      "text/plain": [
       "      Time 2019-09\n",
       "0      0.0       0\n",
       "1     15.0    3407\n",
       "2     30.0    3361\n",
       "3     45.0    3335\n",
       "4     60.0    3287\n",
       "..     ...     ...\n",
       "92  1380.0    3483\n",
       "93  1395.0    3482\n",
       "94  1410.0    3440\n",
       "95  1425.0    3432\n",
       "96  1440.0    3425\n",
       "\n",
       "[97 rows x 2 columns]"
      ]
     },
     "execution_count": 9,
     "metadata": {},
     "output_type": "execute_result"
    }
   ],
   "source": [
    "df_monthly[\"2019-09\"] = array_2019_09\n",
    "df_monthly"
   ]
  },
  {
   "cell_type": "markdown",
   "id": "9d01a1a8",
   "metadata": {},
   "source": [
    "#### Drop Extra Row"
   ]
  },
  {
   "cell_type": "code",
   "execution_count": 10,
   "id": "59375485",
   "metadata": {},
   "outputs": [
    {
     "data": {
      "text/html": [
       "<div>\n",
       "<style scoped>\n",
       "    .dataframe tbody tr th:only-of-type {\n",
       "        vertical-align: middle;\n",
       "    }\n",
       "\n",
       "    .dataframe tbody tr th {\n",
       "        vertical-align: top;\n",
       "    }\n",
       "\n",
       "    .dataframe thead th {\n",
       "        text-align: right;\n",
       "    }\n",
       "</style>\n",
       "<table border=\"1\" class=\"dataframe\">\n",
       "  <thead>\n",
       "    <tr style=\"text-align: right;\">\n",
       "      <th></th>\n",
       "      <th>Time</th>\n",
       "      <th>2019-09</th>\n",
       "    </tr>\n",
       "  </thead>\n",
       "  <tbody>\n",
       "    <tr>\n",
       "      <th>1</th>\n",
       "      <td>15.0</td>\n",
       "      <td>3407</td>\n",
       "    </tr>\n",
       "    <tr>\n",
       "      <th>2</th>\n",
       "      <td>30.0</td>\n",
       "      <td>3361</td>\n",
       "    </tr>\n",
       "    <tr>\n",
       "      <th>3</th>\n",
       "      <td>45.0</td>\n",
       "      <td>3335</td>\n",
       "    </tr>\n",
       "    <tr>\n",
       "      <th>4</th>\n",
       "      <td>60.0</td>\n",
       "      <td>3287</td>\n",
       "    </tr>\n",
       "    <tr>\n",
       "      <th>5</th>\n",
       "      <td>75.0</td>\n",
       "      <td>3275</td>\n",
       "    </tr>\n",
       "    <tr>\n",
       "      <th>...</th>\n",
       "      <td>...</td>\n",
       "      <td>...</td>\n",
       "    </tr>\n",
       "    <tr>\n",
       "      <th>92</th>\n",
       "      <td>1380.0</td>\n",
       "      <td>3483</td>\n",
       "    </tr>\n",
       "    <tr>\n",
       "      <th>93</th>\n",
       "      <td>1395.0</td>\n",
       "      <td>3482</td>\n",
       "    </tr>\n",
       "    <tr>\n",
       "      <th>94</th>\n",
       "      <td>1410.0</td>\n",
       "      <td>3440</td>\n",
       "    </tr>\n",
       "    <tr>\n",
       "      <th>95</th>\n",
       "      <td>1425.0</td>\n",
       "      <td>3432</td>\n",
       "    </tr>\n",
       "    <tr>\n",
       "      <th>96</th>\n",
       "      <td>1440.0</td>\n",
       "      <td>3425</td>\n",
       "    </tr>\n",
       "  </tbody>\n",
       "</table>\n",
       "<p>96 rows × 2 columns</p>\n",
       "</div>"
      ],
      "text/plain": [
       "      Time 2019-09\n",
       "1     15.0    3407\n",
       "2     30.0    3361\n",
       "3     45.0    3335\n",
       "4     60.0    3287\n",
       "5     75.0    3275\n",
       "..     ...     ...\n",
       "92  1380.0    3483\n",
       "93  1395.0    3482\n",
       "94  1410.0    3440\n",
       "95  1425.0    3432\n",
       "96  1440.0    3425\n",
       "\n",
       "[96 rows x 2 columns]"
      ]
     },
     "execution_count": 10,
     "metadata": {},
     "output_type": "execute_result"
    }
   ],
   "source": [
    "df_monthly.drop(0, axis=0, inplace=True)\n",
    "df_monthly"
   ]
  },
  {
   "cell_type": "markdown",
   "id": "f78d0567",
   "metadata": {},
   "source": [
    "#### Change '2019-09' dtype to float64"
   ]
  },
  {
   "cell_type": "code",
   "execution_count": 11,
   "id": "44fa2b1a",
   "metadata": {},
   "outputs": [
    {
     "data": {
      "text/html": [
       "<div>\n",
       "<style scoped>\n",
       "    .dataframe tbody tr th:only-of-type {\n",
       "        vertical-align: middle;\n",
       "    }\n",
       "\n",
       "    .dataframe tbody tr th {\n",
       "        vertical-align: top;\n",
       "    }\n",
       "\n",
       "    .dataframe thead th {\n",
       "        text-align: right;\n",
       "    }\n",
       "</style>\n",
       "<table border=\"1\" class=\"dataframe\">\n",
       "  <thead>\n",
       "    <tr style=\"text-align: right;\">\n",
       "      <th></th>\n",
       "      <th>Time</th>\n",
       "      <th>2019-09</th>\n",
       "    </tr>\n",
       "  </thead>\n",
       "  <tbody>\n",
       "    <tr>\n",
       "      <th>1</th>\n",
       "      <td>15.0</td>\n",
       "      <td>3407.0</td>\n",
       "    </tr>\n",
       "    <tr>\n",
       "      <th>2</th>\n",
       "      <td>30.0</td>\n",
       "      <td>3361.0</td>\n",
       "    </tr>\n",
       "    <tr>\n",
       "      <th>3</th>\n",
       "      <td>45.0</td>\n",
       "      <td>3335.0</td>\n",
       "    </tr>\n",
       "    <tr>\n",
       "      <th>4</th>\n",
       "      <td>60.0</td>\n",
       "      <td>3287.0</td>\n",
       "    </tr>\n",
       "    <tr>\n",
       "      <th>5</th>\n",
       "      <td>75.0</td>\n",
       "      <td>3275.0</td>\n",
       "    </tr>\n",
       "    <tr>\n",
       "      <th>...</th>\n",
       "      <td>...</td>\n",
       "      <td>...</td>\n",
       "    </tr>\n",
       "    <tr>\n",
       "      <th>92</th>\n",
       "      <td>1380.0</td>\n",
       "      <td>3483.0</td>\n",
       "    </tr>\n",
       "    <tr>\n",
       "      <th>93</th>\n",
       "      <td>1395.0</td>\n",
       "      <td>3482.0</td>\n",
       "    </tr>\n",
       "    <tr>\n",
       "      <th>94</th>\n",
       "      <td>1410.0</td>\n",
       "      <td>3440.0</td>\n",
       "    </tr>\n",
       "    <tr>\n",
       "      <th>95</th>\n",
       "      <td>1425.0</td>\n",
       "      <td>3432.0</td>\n",
       "    </tr>\n",
       "    <tr>\n",
       "      <th>96</th>\n",
       "      <td>1440.0</td>\n",
       "      <td>3425.0</td>\n",
       "    </tr>\n",
       "  </tbody>\n",
       "</table>\n",
       "<p>96 rows × 2 columns</p>\n",
       "</div>"
      ],
      "text/plain": [
       "      Time  2019-09\n",
       "1     15.0   3407.0\n",
       "2     30.0   3361.0\n",
       "3     45.0   3335.0\n",
       "4     60.0   3287.0\n",
       "5     75.0   3275.0\n",
       "..     ...      ...\n",
       "92  1380.0   3483.0\n",
       "93  1395.0   3482.0\n",
       "94  1410.0   3440.0\n",
       "95  1425.0   3432.0\n",
       "96  1440.0   3425.0\n",
       "\n",
       "[96 rows x 2 columns]"
      ]
     },
     "execution_count": 11,
     "metadata": {},
     "output_type": "execute_result"
    }
   ],
   "source": [
    "df_monthly['2019-09'].dtype\n",
    "df_monthly['2019-09'] = df_monthly['2019-09'].astype('float64')\n",
    "df_monthly"
   ]
  },
  {
   "cell_type": "markdown",
   "id": "f7cfee9e",
   "metadata": {},
   "source": [
    "### Check for Non-numeric Rows"
   ]
  },
  {
   "cell_type": "code",
   "execution_count": 12,
   "id": "1fb7bdc3",
   "metadata": {},
   "outputs": [
    {
     "data": {
      "text/plain": [
       "Series([], Name: 2019-09, dtype: float64)"
      ]
     },
     "execution_count": 12,
     "metadata": {},
     "output_type": "execute_result"
    }
   ],
   "source": [
    "# df_monthly['2019-09'].isna()\n",
    "find_null = pd.to_numeric(df_monthly['2019-09'], errors='coerce').isnull()\n",
    "df_monthly['2019-09'][pd.to_numeric(df_monthly['2019-09'], errors='coerce').isnull()]"
   ]
  },
  {
   "cell_type": "code",
   "execution_count": 13,
   "id": "d7857b0a",
   "metadata": {},
   "outputs": [
    {
     "data": {
      "text/plain": [
       "1     3407.0\n",
       "2     3361.0\n",
       "3     3335.0\n",
       "4     3287.0\n",
       "5     3275.0\n",
       "       ...  \n",
       "92    3483.0\n",
       "93    3482.0\n",
       "94    3440.0\n",
       "95    3432.0\n",
       "96    3425.0\n",
       "Name: 2019-09, Length: 96, dtype: float64"
      ]
     },
     "execution_count": 13,
     "metadata": {},
     "output_type": "execute_result"
    }
   ],
   "source": [
    "# Fill missing value with mean:\n",
    "df_monthly['2019-09'].fillna(df_monthly['2019-09'].mean())"
   ]
  },
  {
   "cell_type": "markdown",
   "id": "1413e866",
   "metadata": {},
   "source": [
    "#### Describe"
   ]
  },
  {
   "cell_type": "code",
   "execution_count": 14,
   "id": "b182d123",
   "metadata": {},
   "outputs": [
    {
     "data": {
      "text/html": [
       "<div>\n",
       "<style scoped>\n",
       "    .dataframe tbody tr th:only-of-type {\n",
       "        vertical-align: middle;\n",
       "    }\n",
       "\n",
       "    .dataframe tbody tr th {\n",
       "        vertical-align: top;\n",
       "    }\n",
       "\n",
       "    .dataframe thead th {\n",
       "        text-align: right;\n",
       "    }\n",
       "</style>\n",
       "<table border=\"1\" class=\"dataframe\">\n",
       "  <thead>\n",
       "    <tr style=\"text-align: right;\">\n",
       "      <th></th>\n",
       "      <th>Time</th>\n",
       "      <th>2019-09</th>\n",
       "    </tr>\n",
       "  </thead>\n",
       "  <tbody>\n",
       "    <tr>\n",
       "      <th>count</th>\n",
       "      <td>96.000000</td>\n",
       "      <td>96.000000</td>\n",
       "    </tr>\n",
       "    <tr>\n",
       "      <th>mean</th>\n",
       "      <td>727.500000</td>\n",
       "      <td>3699.291667</td>\n",
       "    </tr>\n",
       "    <tr>\n",
       "      <th>std</th>\n",
       "      <td>417.851648</td>\n",
       "      <td>577.715390</td>\n",
       "    </tr>\n",
       "    <tr>\n",
       "      <th>min</th>\n",
       "      <td>15.000000</td>\n",
       "      <td>2892.000000</td>\n",
       "    </tr>\n",
       "    <tr>\n",
       "      <th>25%</th>\n",
       "      <td>371.250000</td>\n",
       "      <td>3205.750000</td>\n",
       "    </tr>\n",
       "    <tr>\n",
       "      <th>50%</th>\n",
       "      <td>727.500000</td>\n",
       "      <td>3549.000000</td>\n",
       "    </tr>\n",
       "    <tr>\n",
       "      <th>75%</th>\n",
       "      <td>1083.750000</td>\n",
       "      <td>4158.500000</td>\n",
       "    </tr>\n",
       "    <tr>\n",
       "      <th>max</th>\n",
       "      <td>1440.000000</td>\n",
       "      <td>4770.000000</td>\n",
       "    </tr>\n",
       "  </tbody>\n",
       "</table>\n",
       "</div>"
      ],
      "text/plain": [
       "              Time      2019-09\n",
       "count    96.000000    96.000000\n",
       "mean    727.500000  3699.291667\n",
       "std     417.851648   577.715390\n",
       "min      15.000000  2892.000000\n",
       "25%     371.250000  3205.750000\n",
       "50%     727.500000  3549.000000\n",
       "75%    1083.750000  4158.500000\n",
       "max    1440.000000  4770.000000"
      ]
     },
     "execution_count": 14,
     "metadata": {},
     "output_type": "execute_result"
    }
   ],
   "source": [
    "df_monthly.describe()"
   ]
  },
  {
   "cell_type": "markdown",
   "id": "650bad70",
   "metadata": {},
   "source": [
    "### Visual with Seaborn"
   ]
  },
  {
   "cell_type": "code",
   "execution_count": 15,
   "id": "a8136c21",
   "metadata": {},
   "outputs": [
    {
     "data": {
      "text/plain": [
       "<AxesSubplot:xlabel='Time', ylabel='2019-09'>"
      ]
     },
     "execution_count": 15,
     "metadata": {},
     "output_type": "execute_result"
    },
    {
     "data": {
      "image/png": "[encoded data removed]",
      "text/plain": [
       "<Figure size 432x288 with 1 Axes>"
      ]
     },
     "metadata": {
      "needs_background": "light"
     },
     "output_type": "display_data"
    }
   ],
   "source": [
    "sns.scatterplot(data=df_monthly, x=\"Time\", y=\"2019-09\")"
   ]
  },
  {
   "cell_type": "markdown",
   "id": "a5450903",
   "metadata": {},
   "source": [
    "### Visual from Matplotlib"
   ]
  },
  {
   "cell_type": "code",
   "execution_count": 16,
   "id": "bc7b5810",
   "metadata": {},
   "outputs": [
    {
     "data": {
      "image/png": "[encoded data removed]",
      "text/plain": [
       "<Figure size 1152x432 with 3 Axes>"
      ]
     },
     "metadata": {
      "needs_background": "light"
     },
     "output_type": "display_data"
    }
   ],
   "source": [
    "fig,axes = plt.subplots(nrows=1,ncols=3,figsize=(16,6))\n",
    "\n",
    "axes[0].plot(df_monthly['Time'],df_monthly['2019-09'],'o')\n",
    "axes[0].set_ylabel(\"Energy Generation\")\n",
    "axes[0].set_title(\"Time of Day\")\n",
    "\n",
    "plt.tight_layout();"
   ]
  },
  {
   "cell_type": "markdown",
   "id": "07e062e2",
   "metadata": {},
   "source": [
    "### Seaborn Pairplot"
   ]
  },
  {
   "cell_type": "code",
   "execution_count": 17,
   "id": "03d8dded",
   "metadata": {},
   "outputs": [
    {
     "data": {
      "text/plain": [
       "<seaborn.axisgrid.PairGrid at 0x7ff123c99ee0>"
      ]
     },
     "execution_count": 17,
     "metadata": {},
     "output_type": "execute_result"
    },
    {
     "data": {
      "image/png": "[encoded data removed]",
      "text/plain": [
       "<Figure size 360x360 with 6 Axes>"
      ]
     },
     "metadata": {
      "needs_background": "light"
     },
     "output_type": "display_data"
    }
   ],
   "source": [
    "sns.pairplot(df_monthly)"
   ]
  },
  {
   "cell_type": "markdown",
   "id": "4087fd9d",
   "metadata": {},
   "source": [
    "### Numpy Polyfit"
   ]
  },
  {
   "cell_type": "code",
   "execution_count": 15,
   "id": "e97ff84a",
   "metadata": {},
   "outputs": [
    {
     "data": {
      "text/plain": [
       "array([4.70427745e-01, 3.35705548e+03])"
      ]
     },
     "execution_count": 15,
     "metadata": {},
     "output_type": "execute_result"
    }
   ],
   "source": [
    "X = df_monthly['Time']\n",
    "y = df_monthly['2019-09']\n",
    "\n",
    "np.polyfit(X, y, deg=1)"
   ]
  },
  {
   "cell_type": "code",
   "execution_count": 16,
   "id": "60e9fbe9",
   "metadata": {},
   "outputs": [
    {
     "data": {
      "text/plain": [
       "[<matplotlib.lines.Line2D at 0x7f990b1c59d0>]"
      ]
     },
     "execution_count": 16,
     "metadata": {},
     "output_type": "execute_result"
    },
    {
     "data": {
      "image/png": "[encoded data removed]",
      "text/plain": [
       "<Figure size 432x288 with 1 Axes>"
      ]
     },
     "metadata": {
      "needs_background": "light"
     },
     "output_type": "display_data"
    }
   ],
   "source": [
    "# Create a line graph of time and predicted_energy_generation\n",
    "time = np.linspace(0, 1500, 500)\n",
    "predicted_energy_generation = 0.470427745*time + 3357.05548\n",
    "plt.plot(time, predicted_energy_generation)"
   ]
  },
  {
   "cell_type": "code",
   "execution_count": 17,
   "id": "269aaceb",
   "metadata": {},
   "outputs": [
    {
     "data": {
      "text/plain": [
       "[<matplotlib.lines.Line2D at 0x7f990b76b2e0>]"
      ]
     },
     "execution_count": 17,
     "metadata": {},
     "output_type": "execute_result"
    },
    {
     "data": {
      "image/png": "[encoded data removed]",
      "text/plain": [
       "<Figure size 432x288 with 1 Axes>"
      ]
     },
     "metadata": {
      "needs_background": "light"
     },
     "output_type": "display_data"
    }
   ],
   "source": [
    "# To see the prediction line graph with actual data:\n",
    "sns.scatterplot(data=df_monthly, x=\"Time\", y=\"2019-09\")\n",
    "plt.plot(time, predicted_energy_generation, color='red')"
   ]
  },
  {
   "cell_type": "code",
   "execution_count": 18,
   "id": "7ffa0ac8",
   "metadata": {},
   "outputs": [
    {
     "data": {
      "text/plain": [
       "3827.483225"
      ]
     },
     "execution_count": 18,
     "metadata": {},
     "output_type": "execute_result"
    }
   ],
   "source": [
    "# To predict the energy generation of an exact time of the day:\n",
    "time = 1000\n",
    "predictedS = 0.470427745*time + 3357.05548\n",
    "predictedS"
   ]
  },
  {
   "cell_type": "markdown",
   "id": "ea1632d7",
   "metadata": {},
   "source": [
    "####  Seaborn \"regplot()\""
   ]
  },
  {
   "cell_type": "code",
   "execution_count": 19,
   "id": "b4f7fee7",
   "metadata": {},
   "outputs": [
    {
     "data": {
      "text/plain": [
       "<AxesSubplot:xlabel='Time', ylabel='2019-09'>"
      ]
     },
     "execution_count": 19,
     "metadata": {},
     "output_type": "execute_result"
    },
    {
     "data": {
      "image/png": "[encoded data removed]",
      "text/plain": [
       "<Figure size 432x288 with 1 Axes>"
      ]
     },
     "metadata": {
      "needs_background": "light"
     },
     "output_type": "display_data"
    }
   ],
   "source": [
    "sns.regplot(data=df_monthly, x='Time', y='2019-09')"
   ]
  },
  {
   "cell_type": "markdown",
   "id": "71c8bc0c",
   "metadata": {},
   "source": [
    "#### Numpy 3rd Polynomial Model:"
   ]
  },
  {
   "cell_type": "code",
   "execution_count": 20,
   "id": "8b2c5c9c",
   "metadata": {},
   "outputs": [
    {
     "data": {
      "text/plain": [
       "array([-2.68330075e-06,  3.75230919e-03,  1.05681507e-01,  3.03316792e+03])"
      ]
     },
     "execution_count": 20,
     "metadata": {},
     "output_type": "execute_result"
    }
   ],
   "source": [
    "# y = B3x**3 + B2x**2 + B1x + B0\n",
    "# X = df_monthly['Time']\n",
    "# y = df_monthly['2019-09']\n",
    "np.polyfit(X, y, deg=3)"
   ]
  },
  {
   "cell_type": "code",
   "execution_count": 21,
   "id": "9edf92be",
   "metadata": {},
   "outputs": [
    {
     "data": {
      "text/plain": [
       "[<matplotlib.lines.Line2D at 0x7f990b92c670>]"
      ]
     },
     "execution_count": 21,
     "metadata": {},
     "output_type": "execute_result"
    },
    {
     "data": {
      "image/png": "[encoded data removed]",
      "text/plain": [
       "<Figure size 432x288 with 1 Axes>"
      ]
     },
     "metadata": {
      "needs_background": "light"
     },
     "output_type": "display_data"
    }
   ],
   "source": [
    "# Create a line graph of time and predicted_energy_generation\n",
    "time_deg_3 = np.linspace(0, 1500, 500)\n",
    "energy_generation_deg_3 = -2.68330075e-06 * time_deg_3 ** 3 + 3.75230919e-03 * time_deg_3 ** 2 + 1.05681507e-01 * time_deg_3 + 3.03316792e+03\n",
    "plt.plot(time_deg_3, energy_generation_deg_3)"
   ]
  },
  {
   "cell_type": "code",
   "execution_count": 22,
   "id": "5c23db95",
   "metadata": {},
   "outputs": [
    {
     "data": {
      "text/plain": [
       "[<matplotlib.lines.Line2D at 0x7f990ba11d60>]"
      ]
     },
     "execution_count": 22,
     "metadata": {},
     "output_type": "execute_result"
    },
    {
     "data": {
      "image/png": "[encoded data removed]",
      "text/plain": [
       "<Figure size 432x288 with 1 Axes>"
      ]
     },
     "metadata": {
      "needs_background": "light"
     },
     "output_type": "display_data"
    }
   ],
   "source": [
    "# To see the prediction line graph with actual data:\n",
    "sns.scatterplot(data=df_monthly, x=\"Time\", y=\"2019-09\")\n",
    "plt.plot(time_deg_3, energy_generation_deg_3, color='red')"
   ]
  },
  {
   "cell_type": "markdown",
   "id": "53daa88b",
   "metadata": {},
   "source": [
    "#### Numpy 5th Polynomial Model:"
   ]
  },
  {
   "cell_type": "code",
   "execution_count": 23,
   "id": "9e8cd4af",
   "metadata": {},
   "outputs": [
    {
     "data": {
      "text/plain": [
       "array([ 6.54254378e-12, -9.80220592e-09, -1.25513462e-05,  2.50093476e-02,\n",
       "       -8.80370824e+00,  3.79837910e+03])"
      ]
     },
     "execution_count": 23,
     "metadata": {},
     "output_type": "execute_result"
    }
   ],
   "source": [
    "# X = df_monthly['Time']\n",
    "# y = df_monthly['2019-09']\n",
    "np.polyfit(X, y, deg=5)"
   ]
  },
  {
   "cell_type": "code",
   "execution_count": 24,
   "id": "3ba7f62d",
   "metadata": {},
   "outputs": [
    {
     "data": {
      "text/plain": [
       "[<matplotlib.lines.Line2D at 0x7f990baf8400>]"
      ]
     },
     "execution_count": 24,
     "metadata": {},
     "output_type": "execute_result"
    },
    {
     "data": {
      "image/png": "[encoded data removed]",
      "text/plain": [
       "<Figure size 432x288 with 1 Axes>"
      ]
     },
     "metadata": {
      "needs_background": "light"
     },
     "output_type": "display_data"
    }
   ],
   "source": [
    "# Create a line graph of time and predicted_energy_generation\n",
    "time_deg_5 = np.linspace(0, 1500, 500)\n",
    "energy_generation_deg_5 = 6.54254378e-12 * time_deg_5 ** 5  + -9.80220592e-09 * time_deg_5 ** 4 + -1.25513462e-05 * time_deg_5 **3 + 2.50093476e-02 * time_deg_5**2 + -8.80370824e+00 * time_deg_5 + 3.79837910e+03\n",
    "plt.plot(time_deg_5, energy_generation_deg_5)"
   ]
  },
  {
   "cell_type": "code",
   "execution_count": 25,
   "id": "ad8c8f27",
   "metadata": {},
   "outputs": [
    {
     "data": {
      "text/plain": [
       "[<matplotlib.lines.Line2D at 0x7f990b1db280>]"
      ]
     },
     "execution_count": 25,
     "metadata": {},
     "output_type": "execute_result"
    },
    {
     "data": {
      "image/png": "[encoded data removed]",
      "text/plain": [
       "<Figure size 432x288 with 1 Axes>"
      ]
     },
     "metadata": {
      "needs_background": "light"
     },
     "output_type": "display_data"
    }
   ],
   "source": [
    "# To see the prediction line graph with actual data:\n",
    "sns.scatterplot(data=df_monthly, x=\"Time\", y=\"2019-09\")\n",
    "plt.plot(time_deg_5, energy_generation_deg_5, color='red')"
   ]
  },
  {
   "cell_type": "markdown",
   "id": "29375ed6",
   "metadata": {},
   "source": [
    "#### Numpy 7th Polynomial Model:"
   ]
  },
  {
   "cell_type": "code",
   "execution_count": 26,
   "id": "2f127898",
   "metadata": {},
   "outputs": [
    {
     "data": {
      "text/plain": [
       "array([-7.26193700e-17,  2.90318846e-13, -3.92861856e-10,  1.73000510e-07,\n",
       "        3.13853354e-05, -3.22837335e-02,  3.85828346e+00,  3.20929795e+03])"
      ]
     },
     "execution_count": 26,
     "metadata": {},
     "output_type": "execute_result"
    }
   ],
   "source": [
    "# X = df_monthly['Time']\n",
    "# y = df_monthly['2019-09']\n",
    "np.polyfit(X, y, deg=7)"
   ]
  },
  {
   "cell_type": "code",
   "execution_count": 27,
   "id": "b63e6f87",
   "metadata": {},
   "outputs": [
    {
     "data": {
      "text/plain": [
       "[<matplotlib.lines.Line2D at 0x7f990af8bd90>]"
      ]
     },
     "execution_count": 27,
     "metadata": {},
     "output_type": "execute_result"
    },
    {
     "data": {
      "image/png": "[encoded data removed]",
      "text/plain": [
       "<Figure size 432x288 with 1 Axes>"
      ]
     },
     "metadata": {
      "needs_background": "light"
     },
     "output_type": "display_data"
    }
   ],
   "source": [
    "# Create a line graph of time and predicted_energy_generation\n",
    "time_deg_7 = np.linspace(0, 1500, 500)\n",
    "energy_generation_deg_7 = -7.26193700e-17 * time_deg_7 ** 7 + 2.90318846e-13 * time_deg_7 ** 6 + -3.92861856e-10 * time_deg_7 ** 5  + 1.73000510e-07 * time_deg_7 ** 4 + 3.13853354e-05 * time_deg_7 **3 + -3.22837335e-02 * time_deg_7**2 + 3.85828346e+00 * time_deg_7 + 3.20929795e+03\n",
    "plt.plot(time_deg_7, energy_generation_deg_7)"
   ]
  },
  {
   "cell_type": "code",
   "execution_count": 28,
   "id": "80df59fc",
   "metadata": {},
   "outputs": [
    {
     "data": {
      "text/plain": [
       "[<matplotlib.lines.Line2D at 0x7f990bd83f10>]"
      ]
     },
     "execution_count": 28,
     "metadata": {},
     "output_type": "execute_result"
    },
    {
     "data": {
      "image/png": "[encoded data removed]",
      "text/plain": [
       "<Figure size 432x288 with 1 Axes>"
      ]
     },
     "metadata": {
      "needs_background": "light"
     },
     "output_type": "display_data"
    }
   ],
   "source": [
    "# To see the prediction line graph with actual data:\n",
    "sns.scatterplot(data=df_monthly, x=\"Time\", y=\"2019-09\")\n",
    "plt.plot(time_deg_7, energy_generation_deg_7, color='red')"
   ]
  },
  {
   "cell_type": "markdown",
   "id": "ed15e19c",
   "metadata": {},
   "source": [
    "#### Numpy 9th Polynomial Model:"
   ]
  },
  {
   "cell_type": "code",
   "execution_count": 29,
   "id": "be9eea46",
   "metadata": {},
   "outputs": [
    {
     "data": {
      "text/plain": [
       "array([ 3.73627695e-22, -2.08296439e-18,  4.52233971e-15, -4.67677491e-12,\n",
       "        2.09221193e-09, -2.27717119e-09, -3.11742391e-04,  9.71578826e-02,\n",
       "       -1.13833534e+01,  3.63862642e+03])"
      ]
     },
     "execution_count": 29,
     "metadata": {},
     "output_type": "execute_result"
    }
   ],
   "source": [
    "# X = df_monthly['Time']\n",
    "# y = df_monthly['2019-09']\n",
    "np.polyfit(X, y, deg=9)"
   ]
  },
  {
   "cell_type": "code",
   "execution_count": 30,
   "id": "7959162a",
   "metadata": {},
   "outputs": [
    {
     "data": {
      "text/plain": [
       "[<matplotlib.lines.Line2D at 0x7f990be76100>]"
      ]
     },
     "execution_count": 30,
     "metadata": {},
     "output_type": "execute_result"
    },
    {
     "data": {
      "image/png": "[encoded data removed]",
      "text/plain": [
       "<Figure size 432x288 with 1 Axes>"
      ]
     },
     "metadata": {
      "needs_background": "light"
     },
     "output_type": "display_data"
    }
   ],
   "source": [
    "# Create a line graph of time and predicted_energy_generation\n",
    "time_deg_9 = np.linspace(0, 1500, 500)\n",
    "energy_generation_deg_9 = 3.73627695e-22 * time_deg_9 ** 9 - 2.08296439e-18 * time_deg_9 ** 8 + 4.52233971e-15 * time_deg_9 ** 7 - 4.67677491e-12 * time_deg_9 ** 6 + 2.09221193e-09 * time_deg_9 ** 5  - 2.27717119e-09 * time_deg_9 ** 4 - 3.11742391e-04 * time_deg_9 **3 + 9.71578826e-02 * time_deg_9**2 - 1.13833534e+01 * time_deg_9 + 3.63862642e+03\n",
    "plt.plot(time_deg_9, energy_generation_deg_9)"
   ]
  },
  {
   "cell_type": "code",
   "execution_count": 31,
   "id": "63ed7c67",
   "metadata": {},
   "outputs": [
    {
     "data": {
      "text/plain": [
       "[<matplotlib.lines.Line2D at 0x7f990bf58f70>]"
      ]
     },
     "execution_count": 31,
     "metadata": {},
     "output_type": "execute_result"
    },
    {
     "data": {
      "image/png": "[encoded data removed]",
      "text/plain": [
       "<Figure size 432x288 with 1 Axes>"
      ]
     },
     "metadata": {
      "needs_background": "light"
     },
     "output_type": "display_data"
    }
   ],
   "source": [
    "# To see the prediction line graph with actual data:\n",
    "sns.scatterplot(data=df_monthly, x=\"Time\", y=\"2019-09\")\n",
    "plt.plot(time_deg_9, energy_generation_deg_9, color='red')"
   ]
  },
  {
   "cell_type": "markdown",
   "id": "be437d06",
   "metadata": {},
   "source": [
    "### SkLearn"
   ]
  },
  {
   "cell_type": "code",
   "execution_count": 18,
   "id": "cc446708",
   "metadata": {},
   "outputs": [],
   "source": [
    "from sklearn.model_selection import train_test_split\n",
    "from sklearn.preprocessing import PolynomialFeatures\n",
    "from sklearn.pipeline import make_pipeline\n",
    "from sklearn.linear_model import LinearRegression\n",
    "from sklearn.metrics import mean_absolute_error, mean_squared_error"
   ]
  },
  {
   "cell_type": "code",
   "execution_count": 19,
   "id": "8dca13e4",
   "metadata": {},
   "outputs": [
    {
     "data": {
      "text/plain": [
       "1    3407.0\n",
       "2    3361.0\n",
       "3    3335.0\n",
       "Name: 2019-09, dtype: float64"
      ]
     },
     "execution_count": 19,
     "metadata": {},
     "output_type": "execute_result"
    }
   ],
   "source": [
    "# Define X & y:\n",
    "X = df_monthly.drop('2019-09', axis=1)\n",
    "y = df_monthly['2019-09']\n",
    "y.head(3)"
   ]
  },
  {
   "cell_type": "code",
   "execution_count": 20,
   "id": "5be234e9",
   "metadata": {},
   "outputs": [],
   "source": [
    "# Split data into 70% of training data and 30% of test data:\n",
    "X_train, X_test, y_train, y_test = train_test_split(X, y, test_size=0.3, random_state=101)"
   ]
  },
  {
   "cell_type": "markdown",
   "id": "abd3cdbc",
   "metadata": {},
   "source": [
    "#### Polynomial Regression (Degree=3)"
   ]
  },
  {
   "cell_type": "code",
   "execution_count": 21,
   "id": "dd49163c",
   "metadata": {},
   "outputs": [
    {
     "data": {
      "text/plain": [
       "Pipeline(steps=[('polynomialfeatures', PolynomialFeatures(degree=3)),\n",
       "                ('linearregression', LinearRegression())])"
      ]
     },
     "execution_count": 21,
     "metadata": {},
     "output_type": "execute_result"
    }
   ],
   "source": [
    "# Create LinearRegression model with a degree of 3:\n",
    "degree=3\n",
    "model_3 = make_pipeline(PolynomialFeatures(3), LinearRegression())\n",
    "model_3.fit(X_train, y_train)"
   ]
  },
  {
   "cell_type": "code",
   "execution_count": 22,
   "id": "e0af076e",
   "metadata": {},
   "outputs": [
    {
     "data": {
      "text/plain": [
       "[<matplotlib.lines.Line2D at 0x7ff1245c4310>]"
      ]
     },
     "execution_count": 22,
     "metadata": {},
     "output_type": "execute_result"
    },
    {
     "data": {
      "image/png": "[encoded data removed]",
      "text/plain": [
       "<Figure size 432x288 with 1 Axes>"
      ]
     },
     "metadata": {
      "needs_background": "light"
     },
     "output_type": "display_data"
    }
   ],
   "source": [
    "# Create a line graph of time and predicted_energy_generation\n",
    "time = np.linspace(0, 1500, 96)\n",
    "predicted_3 = model_3.predict(X)\n",
    "\n",
    "# To see the prediction line graph with actual data:\n",
    "sns.scatterplot(data=df_monthly, x=\"Time\", y=\"2019-09\")\n",
    "plt.xlabel(\"Time in Day (minutes)\")\n",
    "plt.ylabel(\"Energy Generation (THw)\")\n",
    "plt.plot(time, predicted_3, color='red')"
   ]
  },
  {
   "cell_type": "markdown",
   "id": "103ec877",
   "metadata": {},
   "source": [
    "#### 3rd Polynomial Evaluation:"
   ]
  },
  {
   "cell_type": "code",
   "execution_count": 23,
   "id": "3f49f594",
   "metadata": {},
   "outputs": [
    {
     "data": {
      "text/plain": [
       "374.88727302031475"
      ]
     },
     "execution_count": 23,
     "metadata": {},
     "output_type": "execute_result"
    }
   ],
   "source": [
    "predicted_3_test = model_3.predict(X_test)\n",
    "mean_absolute_error(y_test, predicted_3_test)"
   ]
  },
  {
   "cell_type": "code",
   "execution_count": 24,
   "id": "41043331",
   "metadata": {},
   "outputs": [
    {
     "data": {
      "text/plain": [
       "204301.3797239608"
      ]
     },
     "execution_count": 24,
     "metadata": {},
     "output_type": "execute_result"
    }
   ],
   "source": [
    "mean_squared_error(y_test, predicted_3_test)"
   ]
  },
  {
   "cell_type": "markdown",
   "id": "e6007a0d",
   "metadata": {},
   "source": [
    "#### Polynomial Regression (Degree=5)"
   ]
  },
  {
   "cell_type": "code",
   "execution_count": 25,
   "id": "d552e9e4",
   "metadata": {},
   "outputs": [
    {
     "data": {
      "text/plain": [
       "Pipeline(steps=[('polynomialfeatures', PolynomialFeatures(degree=5)),\n",
       "                ('linearregression', LinearRegression())])"
      ]
     },
     "execution_count": 25,
     "metadata": {},
     "output_type": "execute_result"
    }
   ],
   "source": [
    "# Create LinearRegression model with a degree of 5:\n",
    "degree=5\n",
    "model_5 = make_pipeline(PolynomialFeatures(degree), LinearRegression())\n",
    "model_5.fit(X_train, y_train)"
   ]
  },
  {
   "cell_type": "code",
   "execution_count": 26,
   "id": "21801252",
   "metadata": {},
   "outputs": [
    {
     "data": {
      "text/plain": [
       "[<matplotlib.lines.Line2D at 0x7ff1246450a0>]"
      ]
     },
     "execution_count": 26,
     "metadata": {},
     "output_type": "execute_result"
    },
    {
     "data": {
      "image/png": "[encoded data removed]",
      "text/plain": [
       "<Figure size 432x288 with 1 Axes>"
      ]
     },
     "metadata": {
      "needs_background": "light"
     },
     "output_type": "display_data"
    }
   ],
   "source": [
    "# Create a line graph of time and predicted_energy_generation\n",
    "time = np.linspace(0, 1500, 96)\n",
    "predicted_5 = model_5.predict(X)\n",
    "\n",
    "# To see the prediction line graph with actual data:\n",
    "sns.scatterplot(data=df_monthly, x=\"Time\", y=\"2019-09\")\n",
    "plt.xlabel(\"Time in Day (minutes)\")\n",
    "plt.ylabel(\"Energy Generation (THw)\")\n",
    "plt.plot(time, predicted_5, color='red')"
   ]
  },
  {
   "cell_type": "markdown",
   "id": "a33d8959",
   "metadata": {},
   "source": [
    "#### 5th Polynomial Evaluation:"
   ]
  },
  {
   "cell_type": "code",
   "execution_count": 27,
   "id": "b52f8117",
   "metadata": {},
   "outputs": [
    {
     "data": {
      "text/plain": [
       "251.0409781817995"
      ]
     },
     "execution_count": 27,
     "metadata": {},
     "output_type": "execute_result"
    }
   ],
   "source": [
    "predicted_5_test = model_5.predict(X_test)\n",
    "mean_absolute_error(y_test, predicted_5_test)"
   ]
  },
  {
   "cell_type": "code",
   "execution_count": 28,
   "id": "7114055e",
   "metadata": {},
   "outputs": [
    {
     "data": {
      "text/plain": [
       "80876.58946597026"
      ]
     },
     "execution_count": 28,
     "metadata": {},
     "output_type": "execute_result"
    }
   ],
   "source": [
    "mean_squared_error(y_test, predicted_5_test)"
   ]
  },
  {
   "cell_type": "markdown",
   "id": "f32543a8",
   "metadata": {},
   "source": [
    "#### Polynomial Regression (Degree=7)"
   ]
  },
  {
   "cell_type": "code",
   "execution_count": 29,
   "id": "c9f08b96",
   "metadata": {},
   "outputs": [
    {
     "data": {
      "text/plain": [
       "Pipeline(steps=[('polynomialfeatures', PolynomialFeatures(degree=7)),\n",
       "                ('linearregression', LinearRegression())])"
      ]
     },
     "execution_count": 29,
     "metadata": {},
     "output_type": "execute_result"
    }
   ],
   "source": [
    "# Create LinearRegression model with a degree of 7:\n",
    "degree=7\n",
    "model_7 = make_pipeline(PolynomialFeatures(degree), LinearRegression())\n",
    "model_7.fit(X_train, y_train)"
   ]
  },
  {
   "cell_type": "code",
   "execution_count": 30,
   "id": "c6ead960",
   "metadata": {},
   "outputs": [
    {
     "data": {
      "text/plain": [
       "[<matplotlib.lines.Line2D at 0x7ff124891160>]"
      ]
     },
     "execution_count": 30,
     "metadata": {},
     "output_type": "execute_result"
    },
    {
     "data": {
      "image/png": "[encoded data removed]",
      "text/plain": [
       "<Figure size 432x288 with 1 Axes>"
      ]
     },
     "metadata": {
      "needs_background": "light"
     },
     "output_type": "display_data"
    }
   ],
   "source": [
    "# Create a line graph of time and predicted_energy_generation\n",
    "time = np.linspace(0, 1500, 96)\n",
    "predicted_7 = model_7.predict(X)\n",
    "\n",
    "# To see the prediction line graph with actual data:\n",
    "sns.scatterplot(data=df_monthly, x=\"Time\", y=\"2019-09\")\n",
    "plt.xlabel(\"Time in Day (minutes)\")\n",
    "plt.ylabel(\"Energy Generation (THw)\")\n",
    "plt.plot(time, predicted_7, color='red')"
   ]
  },
  {
   "cell_type": "markdown",
   "id": "2fcaaacd",
   "metadata": {},
   "source": [
    "#### 7th Polynomial Evaluation:"
   ]
  },
  {
   "cell_type": "code",
   "execution_count": 31,
   "id": "42efcb4c",
   "metadata": {},
   "outputs": [
    {
     "data": {
      "text/plain": [
       "131.7037396127451"
      ]
     },
     "execution_count": 31,
     "metadata": {},
     "output_type": "execute_result"
    }
   ],
   "source": [
    "predicted_7_test = model_7.predict(X_test)\n",
    "mean_absolute_error(y_test, predicted_7_test)"
   ]
  },
  {
   "cell_type": "code",
   "execution_count": 32,
   "id": "72f593d2",
   "metadata": {},
   "outputs": [
    {
     "data": {
      "text/plain": [
       "28442.986175339796"
      ]
     },
     "execution_count": 32,
     "metadata": {},
     "output_type": "execute_result"
    }
   ],
   "source": [
    "mean_squared_error(y_test, predicted_7_test)"
   ]
  },
  {
   "cell_type": "markdown",
   "id": "ceb2a3a7",
   "metadata": {},
   "source": [
    "#### Polynomial Regression (Degree=9)"
   ]
  },
  {
   "cell_type": "code",
   "execution_count": 35,
   "id": "ce4c0465",
   "metadata": {},
   "outputs": [
    {
     "data": {
      "text/plain": [
       "Pipeline(steps=[('polynomialfeatures', PolynomialFeatures(degree=9)),\n",
       "                ('linearregression', LinearRegression())])"
      ]
     },
     "execution_count": 35,
     "metadata": {},
     "output_type": "execute_result"
    }
   ],
   "source": [
    "# Create LinearRegression model with a degree of 9:\n",
    "degree=9\n",
    "model_9 = make_pipeline(PolynomialFeatures(degree), LinearRegression())\n",
    "model_9.fit(X_train, y_train)"
   ]
  },
  {
   "cell_type": "code",
   "execution_count": 36,
   "id": "68cbd638",
   "metadata": {},
   "outputs": [
    {
     "data": {
      "text/plain": [
       "[<matplotlib.lines.Line2D at 0x7ff124b74e50>]"
      ]
     },
     "execution_count": 36,
     "metadata": {},
     "output_type": "execute_result"
    },
    {
     "data": {
      "image/png": "[encoded data removed]",
      "text/plain": [
       "<Figure size 432x288 with 1 Axes>"
      ]
     },
     "metadata": {
      "needs_background": "light"
     },
     "output_type": "display_data"
    }
   ],
   "source": [
    "# Create a line graph of time and predicted_energy_generation\n",
    "time = np.linspace(0, 1500, 96)\n",
    "predicted_9 = model_9.predict(X)\n",
    "\n",
    "# To see the prediction line graph with actual data:\n",
    "sns.scatterplot(data=df_monthly, x=\"Time\", y=\"2019-09\")\n",
    "plt.xlabel(\"Time in Day (minutes)\")\n",
    "plt.ylabel(\"Energy Generation (THw)\")\n",
    "plt.plot(time, predicted_9, color='red')"
   ]
  },
  {
   "cell_type": "markdown",
   "id": "bf76f847",
   "metadata": {},
   "source": [
    "#### 9th Polynomial Evaluation:"
   ]
  },
  {
   "cell_type": "code",
   "execution_count": 37,
   "id": "6005c547",
   "metadata": {},
   "outputs": [
    {
     "data": {
      "text/plain": [
       "212.21737671840222"
      ]
     },
     "execution_count": 37,
     "metadata": {},
     "output_type": "execute_result"
    }
   ],
   "source": [
    "predicted_9_test = model_9.predict(X_test)\n",
    "mean_absolute_error(y_test, predicted_9_test)"
   ]
  },
  {
   "cell_type": "code",
   "execution_count": 38,
   "id": "45d3db8a",
   "metadata": {},
   "outputs": [
    {
     "data": {
      "text/plain": [
       "68571.69824043255"
      ]
     },
     "execution_count": 38,
     "metadata": {},
     "output_type": "execute_result"
    }
   ],
   "source": [
    "mean_squared_error(y_test, predicted_9_test)"
   ]
  },
  {
   "cell_type": "code",
   "execution_count": null,
   "id": "722f7de6",
   "metadata": {},
   "outputs": [],
   "source": []
  }
 ],
 "metadata": {
  "kernelspec": {
   "display_name": "Python 3",
   "language": "python",
   "name": "python3"
  },
  "language_info": {
   "codemirror_mode": {
    "name": "ipython",
    "version": 3
   },
   "file_extension": ".py",
   "mimetype": "text/x-python",
   "name": "python",
   "nbconvert_exporter": "python",
   "pygments_lexer": "ipython3",
   "version": "3.8.8"
  }
 },
 "nbformat": 4,
 "nbformat_minor": 5
}
